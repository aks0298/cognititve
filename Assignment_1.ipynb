{
  "cells": [
    {
      "cell_type": "markdown",
      "metadata": {
        "id": "E337vZErInnd"
      },
      "source": [
        "**ASSIGNMENT 1**"
      ]
    },
    {
      "cell_type": "code",
      "execution_count": null,
      "metadata": {
        "colab": {
          "base_uri": "https://localhost:8080/"
        },
        "id": "7oC-RUFCDsVZ",
        "outputId": "c0484f1f-3052-4dde-c0cd-323dd0c396eb"
      },
      "outputs": [],
      "source": [
        "# 1.1: WAP to print your name three times\n",
        "name=\"Shreyas\"\n",
        "print(name)\n",
        "print(name)\n",
        "print(name)"
      ]
    },
    {
      "cell_type": "code",
      "execution_count": null,
      "metadata": {
        "colab": {
          "base_uri": "https://localhost:8080/"
        },
        "id": "_k7rwj4bJlHP",
        "outputId": "8d9d6240-15ec-4925-ecd3-3345e7c82742"
      },
      "outputs": [
        {
          "name": "stdout",
          "output_type": "stream",
          "text": [
            "the sum of 10 + 20 + 30 = 60\n"
          ]
        }
      ],
      "source": [
        "# 2.1 WAP to add three numbers and print the result.\n",
        "a=10\n",
        "b=20\n",
        "c=30\n",
        "\n",
        "result=a+b+c\n",
        "print(f\"the sum of {a} + {b} + {c} = {result}\")"
      ]
    },
    {
      "cell_type": "code",
      "execution_count": null,
      "metadata": {
        "colab": {
          "base_uri": "https://localhost:8080/"
        },
        "id": "Cf42IA35KGlY",
        "outputId": "3751e5bb-182b-49e4-ade7-686e645e9f6a"
      },
      "outputs": [
        {
          "name": "stdout",
          "output_type": "stream",
          "text": [
            "hello world 2025\n"
          ]
        }
      ],
      "source": [
        "# 2.2 WAP to concatinate three strings and print the result.\n",
        "str1=\"hello\"\n",
        "str2=\"world\"\n",
        "str3=\"2025\"\n",
        "\n",
        "print(str1+\" \"+str2+\" \"+str3)"
      ]
    },
    {
      "cell_type": "code",
      "execution_count": null,
      "metadata": {
        "colab": {
          "base_uri": "https://localhost:8080/"
        },
        "id": "Vasbao8iKmlg",
        "outputId": "6e7ab758-d9e0-4896-93de-4259ec30b2eb"
      },
      "outputs": [
        {
          "name": "stdout",
          "output_type": "stream",
          "text": [
            "7  *  1  =  7\n",
            "7  *  2  =  14\n",
            "7  *  3  =  21\n",
            "7  *  4  =  28\n",
            "7  *  5  =  35\n",
            "7  *  6  =  42\n",
            "7  *  7  =  49\n",
            "7  *  8  =  56\n",
            "7  *  9  =  63\n",
            "7  *  10  =  70\n",
            "\n",
            "9  *  1  =  9\n",
            "9  *  2  =  18\n",
            "9  *  3  =  27\n",
            "9  *  4  =  36\n",
            "9  *  5  =  45\n",
            "9  *  6  =  54\n",
            "9  *  7  =  63\n",
            "9  *  8  =  72\n",
            "9  *  9  =  81\n",
            "9  *  10  =  90\n"
          ]
        }
      ],
      "source": [
        "# 4.1: WAP to print the table of 7, 9.\n",
        "n1=7\n",
        "n2=9\n",
        "\n",
        "for i in range(1,11):\n",
        "  print(n1,\" * \",i,\" = \",n1*i)\n",
        "\n",
        "print()\n",
        "\n",
        "for i in range(1,11):\n",
        "  print(n2,\" * \",i,\" = \",n2*i)\n",
        "\n"
      ]
    },
    {
      "cell_type": "code",
      "execution_count": null,
      "metadata": {
        "colab": {
          "base_uri": "https://localhost:8080/"
        },
        "id": "3mueaY2YZVau",
        "outputId": "8a4e1764-cd26-4992-821f-7350e5d73bb7"
      },
      "outputs": [
        {
          "name": "stdout",
          "output_type": "stream",
          "text": [
            "enter a number: 6\n",
            "6  *  1  =  6\n",
            "6  *  2  =  12\n",
            "6  *  3  =  18\n",
            "6  *  4  =  24\n",
            "6  *  5  =  30\n",
            "6  *  6  =  36\n",
            "6  *  7  =  42\n",
            "6  *  8  =  48\n",
            "6  *  9  =  54\n",
            "6  *  10  =  60\n",
            "\n"
          ]
        }
      ],
      "source": [
        "# 4.2: WAP to print the table of n and n is given by user.\n",
        "n=int(input(\"enter a number: \"))\n",
        "for i in range(1,11):\n",
        "  print(n,\" * \",i,\" = \",n*i)\n",
        "\n",
        "print()"
      ]
    },
    {
      "cell_type": "code",
      "execution_count": null,
      "metadata": {
        "colab": {
          "base_uri": "https://localhost:8080/"
        },
        "id": "B8rnWTStZw4s",
        "outputId": "f7b83505-c4a5-4676-e56e-7e1eefea13f4"
      },
      "outputs": [
        {
          "name": "stdout",
          "output_type": "stream",
          "text": [
            "enter a num: 25\n",
            "sum of 1 to 25 is : 325\n"
          ]
        }
      ],
      "source": [
        "# 4.3 WAP to add all the numbers from 1 to n and n is given by user.\n",
        "num=int(input(\"enter a num: \"))\n",
        "\n",
        "print(\"sum of 1 to\",num,\"is :\",sum(range(1,num+1)))\n"
      ]
    },
    {
      "cell_type": "code",
      "execution_count": null,
      "metadata": {
        "colab": {
          "base_uri": "https://localhost:8080/"
        },
        "id": "pBH4Ki8XaLcv",
        "outputId": "0fb3934a-0ca8-4e56-ea4e-c507a9979394"
      },
      "outputs": [
        {
          "name": "stdout",
          "output_type": "stream",
          "text": [
            "Enter first number: 10\n",
            "Enter second number: 20\n",
            "Enter third number: 30\n",
            "30\n"
          ]
        }
      ],
      "source": [
        "# 5.1: WAP to find max amoung three numbers and input from user. [Try max() function]\n",
        "nums=[]\n",
        "nums.append(int(input(\"Enter first number: \")))\n",
        "nums.append(int(input(\"Enter second number: \")))\n",
        "nums.append(int(input(\"Enter third number: \")))\n",
        "\n",
        "max_num=max(nums)\n",
        "print(max_num)"
      ]
    },
    {
      "cell_type": "code",
      "execution_count": null,
      "metadata": {
        "colab": {
          "base_uri": "https://localhost:8080/"
        },
        "id": "4Ce_v30IbcCF",
        "outputId": "5a246baf-a990-416b-a955-6157faae94aa"
      },
      "outputs": [
        {
          "name": "stdout",
          "output_type": "stream",
          "text": [
            "enter n: 100\n",
            "63\n"
          ]
        }
      ],
      "source": [
        "# 5.2: WAP to add all numbers divisible by 7 and 9 from 1 to n and n is given by the user.\n",
        "res=0\n",
        "x=int(input(\"enter n: \"))\n",
        "\n",
        "for i in range(1,x+1):\n",
        "  if i%7==0 and i%9==0:\n",
        "    res=res+i\n",
        "\n",
        "print(res)"
      ]
    },
    {
      "cell_type": "code",
      "execution_count": null,
      "metadata": {
        "colab": {
          "base_uri": "https://localhost:8080/"
        },
        "id": "ZNP704jWcnDW",
        "outputId": "0aa51193-901e-4b8a-eb46-766b1950daa6"
      },
      "outputs": [
        {
          "name": "stdout",
          "output_type": "stream",
          "text": [
            "enter n: 100\n",
            "1060\n"
          ]
        }
      ],
      "source": [
        "# 5.3: WAP to add all prime numbers from 1 to n and n is given by the user\n",
        "def is_prime(num):\n",
        "  if num<=1:\n",
        "    return False\n",
        "  for i in range(2, int(num**0.5) + 1):\n",
        "        if num % i == 0:\n",
        "            return False\n",
        "  return True\n",
        "\n",
        "y=int(input(\"enter n: \"))\n",
        "sum2=0\n",
        "for i in range(2,y+1):\n",
        "  if is_prime(i):\n",
        "    sum2=sum2+i\n",
        "\n",
        "print(sum2)"
      ]
    },
    {
      "cell_type": "code",
      "execution_count": null,
      "metadata": {
        "colab": {
          "base_uri": "https://localhost:8080/"
        },
        "id": "F7qq0ThGcvBV",
        "outputId": "c2effcc7-a537-44fa-e3af-e36e393ea51b"
      },
      "outputs": [
        {
          "name": "stdout",
          "output_type": "stream",
          "text": [
            "enter n : 50\n",
            "625\n"
          ]
        }
      ],
      "source": [
        "# 6.1: WAP using function that add all odd numbers from 1 to n, n is given by the user.\n",
        "\n",
        "nums=int(input(\"enter n : \"))\n",
        "odd_sum=0\n",
        "for i in range(1,nums+1):\n",
        "  if i%2!=0:\n",
        "    odd_sum+=i\n",
        "\n",
        "print(odd_sum)"
      ]
    },
    {
      "cell_type": "code",
      "execution_count": null,
      "metadata": {
        "colab": {
          "base_uri": "https://localhost:8080/"
        },
        "id": "wY8_7_TjeUvC",
        "outputId": "e0f58cbf-fe69-4425-f2c0-259057b201cb"
      },
      "outputs": [
        {
          "name": "stdout",
          "output_type": "stream",
          "text": [
            "enter n: 30\n",
            "129\n"
          ]
        }
      ],
      "source": [
        "#6.2: WAP using function that add all prime numbers from 1 to n, n given by the user.\n",
        "\n",
        "nums2=int(input(\"enter n: \"))\n",
        "prime_sum=0\n",
        "for i in range(1,nums2+1):\n",
        "  if is_prime(i):\n",
        "    prime_sum+=i\n",
        "\n",
        "print(prime_sum)"
      ]
    },
    {
      "cell_type": "code",
      "execution_count": null,
      "metadata": {
        "id": "mmi48AJ6e9zG"
      },
      "outputs": [],
      "source": []
    }
  ],
  "metadata": {
    "colab": {
      "provenance": []
    },
    "kernelspec": {
      "display_name": "Python 3",
      "name": "python3"
    },
    "language_info": {
      "name": "python"
    }
  },
  "nbformat": 4,
  "nbformat_minor": 0
}
